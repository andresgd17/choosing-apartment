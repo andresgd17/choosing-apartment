{
 "cells": [
  {
   "cell_type": "code",
   "execution_count": 1,
   "metadata": {},
   "outputs": [],
   "source": [
    "import pandas as pd\n",
    "import matplotlib.pyplot as plt\n",
    "from matplotlib import cm"
   ]
  },
  {
   "cell_type": "code",
   "execution_count": 2,
   "metadata": {},
   "outputs": [],
   "source": [
    "list_agencia= ['ROCA', 'ROCA', 'CARDINALI', 'CARDINALI', 'CARDINALI', 'CARDINALI', 'CARDINALI', 'ROCA', 'CARDINALI', 'CARDINALI', 'ROCA', 'CARDINALI', 'CARDINALI']\n",
    "list_codigo = [60705, 60252, 116494, 22312, 34120, 74470, 106486, 60142, 23992, 39544, 26457, 15817, 80932]\n",
    "list_area   = [40, 41, 42, 40, 64, 35, 36, 50, 48, 42, 35, 73, 43]\n",
    "list_precio = [843, 1015, 1266, 1024, 1228, 1000, 1184, 1171, 1056, 1071, 1112, 1353, 1090]\n",
    "list_dormit = [1, 1, 1, 1, 2, 1, 1, 1, 1, 1, 1, 2, 1]"
   ]
  },
  {
   "cell_type": "code",
   "execution_count": 3,
   "metadata": {},
   "outputs": [
    {
     "data": {
      "text/plain": [
       "(13, 13, 13, 13)"
      ]
     },
     "execution_count": 3,
     "metadata": {},
     "output_type": "execute_result"
    }
   ],
   "source": [
    "len(list_agencia), len(list_codigo), len(list_area), len(list_dormit)"
   ]
  },
  {
   "cell_type": "code",
   "execution_count": 4,
   "metadata": {},
   "outputs": [
    {
     "name": "stdout",
     "output_type": "stream",
     "text": [
      "      Agencia  codigo  Area  precio  dormitorios\n",
      "0        ROCA   60705    40     843            1\n",
      "1        ROCA   60252    41    1015            1\n",
      "2   CARDINALI  116494    42    1266            1\n",
      "3   CARDINALI   22312    40    1024            1\n",
      "4   CARDINALI   34120    64    1228            2\n",
      "5   CARDINALI   74470    35    1000            1\n",
      "6   CARDINALI  106486    36    1184            1\n",
      "7        ROCA   60142    50    1171            1\n",
      "8   CARDINALI   23992    48    1056            1\n",
      "9   CARDINALI   39544    42    1071            1\n",
      "10       ROCA   26457    35    1112            1\n",
      "11  CARDINALI   15817    73    1353            2\n",
      "12  CARDINALI   80932    43    1090            1\n"
     ]
    }
   ],
   "source": [
    "data = {'Agencia': list_agencia ,\n",
    "        'codigo' : list_codigo,\n",
    "        'Area'   : list_area,\n",
    "        'precio' : list_precio,\n",
    "        'dormitorios' : list_dormit,\n",
    "        }\n",
    "\n",
    "df = pd.DataFrame(data)\n",
    "\n",
    "print(df)"
   ]
  },
  {
   "cell_type": "code",
   "execution_count": 7,
   "metadata": {},
   "outputs": [
    {
     "data": {
      "text/html": [
       "<div>\n",
       "<style scoped>\n",
       "    .dataframe tbody tr th:only-of-type {\n",
       "        vertical-align: middle;\n",
       "    }\n",
       "\n",
       "    .dataframe tbody tr th {\n",
       "        vertical-align: top;\n",
       "    }\n",
       "\n",
       "    .dataframe thead th {\n",
       "        text-align: right;\n",
       "    }\n",
       "</style>\n",
       "<table border=\"1\" class=\"dataframe\">\n",
       "  <thead>\n",
       "    <tr style=\"text-align: right;\">\n",
       "      <th></th>\n",
       "      <th>Agencia</th>\n",
       "      <th>codigo</th>\n",
       "      <th>Area</th>\n",
       "      <th>precio</th>\n",
       "      <th>dormitorios</th>\n",
       "      <th>Indicador</th>\n",
       "    </tr>\n",
       "  </thead>\n",
       "  <tbody>\n",
       "    <tr>\n",
       "      <th>0</th>\n",
       "      <td>ROCA</td>\n",
       "      <td>60705</td>\n",
       "      <td>40</td>\n",
       "      <td>843</td>\n",
       "      <td>1</td>\n",
       "      <td>4.744958</td>\n",
       "    </tr>\n",
       "    <tr>\n",
       "      <th>1</th>\n",
       "      <td>ROCA</td>\n",
       "      <td>60252</td>\n",
       "      <td>41</td>\n",
       "      <td>1015</td>\n",
       "      <td>1</td>\n",
       "      <td>4.039409</td>\n",
       "    </tr>\n",
       "    <tr>\n",
       "      <th>2</th>\n",
       "      <td>CARDINALI</td>\n",
       "      <td>116494</td>\n",
       "      <td>42</td>\n",
       "      <td>1266</td>\n",
       "      <td>1</td>\n",
       "      <td>3.317536</td>\n",
       "    </tr>\n",
       "    <tr>\n",
       "      <th>3</th>\n",
       "      <td>CARDINALI</td>\n",
       "      <td>22312</td>\n",
       "      <td>40</td>\n",
       "      <td>1024</td>\n",
       "      <td>1</td>\n",
       "      <td>3.906250</td>\n",
       "    </tr>\n",
       "    <tr>\n",
       "      <th>4</th>\n",
       "      <td>CARDINALI</td>\n",
       "      <td>34120</td>\n",
       "      <td>64</td>\n",
       "      <td>1228</td>\n",
       "      <td>2</td>\n",
       "      <td>5.211726</td>\n",
       "    </tr>\n",
       "    <tr>\n",
       "      <th>5</th>\n",
       "      <td>CARDINALI</td>\n",
       "      <td>74470</td>\n",
       "      <td>35</td>\n",
       "      <td>1000</td>\n",
       "      <td>1</td>\n",
       "      <td>3.500000</td>\n",
       "    </tr>\n",
       "    <tr>\n",
       "      <th>6</th>\n",
       "      <td>CARDINALI</td>\n",
       "      <td>106486</td>\n",
       "      <td>36</td>\n",
       "      <td>1184</td>\n",
       "      <td>1</td>\n",
       "      <td>3.040541</td>\n",
       "    </tr>\n",
       "    <tr>\n",
       "      <th>7</th>\n",
       "      <td>ROCA</td>\n",
       "      <td>60142</td>\n",
       "      <td>50</td>\n",
       "      <td>1171</td>\n",
       "      <td>1</td>\n",
       "      <td>4.269855</td>\n",
       "    </tr>\n",
       "    <tr>\n",
       "      <th>8</th>\n",
       "      <td>CARDINALI</td>\n",
       "      <td>23992</td>\n",
       "      <td>48</td>\n",
       "      <td>1056</td>\n",
       "      <td>1</td>\n",
       "      <td>4.545455</td>\n",
       "    </tr>\n",
       "    <tr>\n",
       "      <th>9</th>\n",
       "      <td>CARDINALI</td>\n",
       "      <td>39544</td>\n",
       "      <td>42</td>\n",
       "      <td>1071</td>\n",
       "      <td>1</td>\n",
       "      <td>3.921569</td>\n",
       "    </tr>\n",
       "    <tr>\n",
       "      <th>10</th>\n",
       "      <td>ROCA</td>\n",
       "      <td>26457</td>\n",
       "      <td>35</td>\n",
       "      <td>1112</td>\n",
       "      <td>1</td>\n",
       "      <td>3.147482</td>\n",
       "    </tr>\n",
       "    <tr>\n",
       "      <th>11</th>\n",
       "      <td>CARDINALI</td>\n",
       "      <td>15817</td>\n",
       "      <td>73</td>\n",
       "      <td>1353</td>\n",
       "      <td>2</td>\n",
       "      <td>5.395418</td>\n",
       "    </tr>\n",
       "    <tr>\n",
       "      <th>12</th>\n",
       "      <td>CARDINALI</td>\n",
       "      <td>80932</td>\n",
       "      <td>43</td>\n",
       "      <td>1090</td>\n",
       "      <td>1</td>\n",
       "      <td>3.944954</td>\n",
       "    </tr>\n",
       "  </tbody>\n",
       "</table>\n",
       "</div>"
      ],
      "text/plain": [
       "      Agencia  codigo  Area  precio  dormitorios  Indicador\n",
       "0        ROCA   60705    40     843            1   4.744958\n",
       "1        ROCA   60252    41    1015            1   4.039409\n",
       "2   CARDINALI  116494    42    1266            1   3.317536\n",
       "3   CARDINALI   22312    40    1024            1   3.906250\n",
       "4   CARDINALI   34120    64    1228            2   5.211726\n",
       "5   CARDINALI   74470    35    1000            1   3.500000\n",
       "6   CARDINALI  106486    36    1184            1   3.040541\n",
       "7        ROCA   60142    50    1171            1   4.269855\n",
       "8   CARDINALI   23992    48    1056            1   4.545455\n",
       "9   CARDINALI   39544    42    1071            1   3.921569\n",
       "10       ROCA   26457    35    1112            1   3.147482\n",
       "11  CARDINALI   15817    73    1353            2   5.395418\n",
       "12  CARDINALI   80932    43    1090            1   3.944954"
      ]
     },
     "execution_count": 7,
     "metadata": {},
     "output_type": "execute_result"
    }
   ],
   "source": [
    "df['Indicador']= 100*df['Area']/df['precio'] # adding indicator of quality\n",
    "df"
   ]
  },
  {
   "cell_type": "code",
   "execution_count": 9,
   "metadata": {},
   "outputs": [
    {
     "data": {
      "text/html": [
       "<div>\n",
       "<style scoped>\n",
       "    .dataframe tbody tr th:only-of-type {\n",
       "        vertical-align: middle;\n",
       "    }\n",
       "\n",
       "    .dataframe tbody tr th {\n",
       "        vertical-align: top;\n",
       "    }\n",
       "\n",
       "    .dataframe thead th {\n",
       "        text-align: right;\n",
       "    }\n",
       "</style>\n",
       "<table border=\"1\" class=\"dataframe\">\n",
       "  <thead>\n",
       "    <tr style=\"text-align: right;\">\n",
       "      <th></th>\n",
       "      <th>Agencia</th>\n",
       "      <th>codigo</th>\n",
       "      <th>Area</th>\n",
       "      <th>precio</th>\n",
       "      <th>dormitorios</th>\n",
       "      <th>Indicador</th>\n",
       "    </tr>\n",
       "  </thead>\n",
       "  <tbody>\n",
       "    <tr>\n",
       "      <th>6</th>\n",
       "      <td>CARDINALI</td>\n",
       "      <td>106486</td>\n",
       "      <td>36</td>\n",
       "      <td>1184</td>\n",
       "      <td>1</td>\n",
       "      <td>3.040541</td>\n",
       "    </tr>\n",
       "    <tr>\n",
       "      <th>10</th>\n",
       "      <td>ROCA</td>\n",
       "      <td>26457</td>\n",
       "      <td>35</td>\n",
       "      <td>1112</td>\n",
       "      <td>1</td>\n",
       "      <td>3.147482</td>\n",
       "    </tr>\n",
       "    <tr>\n",
       "      <th>2</th>\n",
       "      <td>CARDINALI</td>\n",
       "      <td>116494</td>\n",
       "      <td>42</td>\n",
       "      <td>1266</td>\n",
       "      <td>1</td>\n",
       "      <td>3.317536</td>\n",
       "    </tr>\n",
       "    <tr>\n",
       "      <th>5</th>\n",
       "      <td>CARDINALI</td>\n",
       "      <td>74470</td>\n",
       "      <td>35</td>\n",
       "      <td>1000</td>\n",
       "      <td>1</td>\n",
       "      <td>3.500000</td>\n",
       "    </tr>\n",
       "    <tr>\n",
       "      <th>3</th>\n",
       "      <td>CARDINALI</td>\n",
       "      <td>22312</td>\n",
       "      <td>40</td>\n",
       "      <td>1024</td>\n",
       "      <td>1</td>\n",
       "      <td>3.906250</td>\n",
       "    </tr>\n",
       "    <tr>\n",
       "      <th>9</th>\n",
       "      <td>CARDINALI</td>\n",
       "      <td>39544</td>\n",
       "      <td>42</td>\n",
       "      <td>1071</td>\n",
       "      <td>1</td>\n",
       "      <td>3.921569</td>\n",
       "    </tr>\n",
       "    <tr>\n",
       "      <th>12</th>\n",
       "      <td>CARDINALI</td>\n",
       "      <td>80932</td>\n",
       "      <td>43</td>\n",
       "      <td>1090</td>\n",
       "      <td>1</td>\n",
       "      <td>3.944954</td>\n",
       "    </tr>\n",
       "    <tr>\n",
       "      <th>1</th>\n",
       "      <td>ROCA</td>\n",
       "      <td>60252</td>\n",
       "      <td>41</td>\n",
       "      <td>1015</td>\n",
       "      <td>1</td>\n",
       "      <td>4.039409</td>\n",
       "    </tr>\n",
       "    <tr>\n",
       "      <th>7</th>\n",
       "      <td>ROCA</td>\n",
       "      <td>60142</td>\n",
       "      <td>50</td>\n",
       "      <td>1171</td>\n",
       "      <td>1</td>\n",
       "      <td>4.269855</td>\n",
       "    </tr>\n",
       "    <tr>\n",
       "      <th>8</th>\n",
       "      <td>CARDINALI</td>\n",
       "      <td>23992</td>\n",
       "      <td>48</td>\n",
       "      <td>1056</td>\n",
       "      <td>1</td>\n",
       "      <td>4.545455</td>\n",
       "    </tr>\n",
       "    <tr>\n",
       "      <th>0</th>\n",
       "      <td>ROCA</td>\n",
       "      <td>60705</td>\n",
       "      <td>40</td>\n",
       "      <td>843</td>\n",
       "      <td>1</td>\n",
       "      <td>4.744958</td>\n",
       "    </tr>\n",
       "    <tr>\n",
       "      <th>4</th>\n",
       "      <td>CARDINALI</td>\n",
       "      <td>34120</td>\n",
       "      <td>64</td>\n",
       "      <td>1228</td>\n",
       "      <td>2</td>\n",
       "      <td>5.211726</td>\n",
       "    </tr>\n",
       "    <tr>\n",
       "      <th>11</th>\n",
       "      <td>CARDINALI</td>\n",
       "      <td>15817</td>\n",
       "      <td>73</td>\n",
       "      <td>1353</td>\n",
       "      <td>2</td>\n",
       "      <td>5.395418</td>\n",
       "    </tr>\n",
       "  </tbody>\n",
       "</table>\n",
       "</div>"
      ],
      "text/plain": [
       "      Agencia  codigo  Area  precio  dormitorios  Indicador\n",
       "6   CARDINALI  106486    36    1184            1   3.040541\n",
       "10       ROCA   26457    35    1112            1   3.147482\n",
       "2   CARDINALI  116494    42    1266            1   3.317536\n",
       "5   CARDINALI   74470    35    1000            1   3.500000\n",
       "3   CARDINALI   22312    40    1024            1   3.906250\n",
       "9   CARDINALI   39544    42    1071            1   3.921569\n",
       "12  CARDINALI   80932    43    1090            1   3.944954\n",
       "1        ROCA   60252    41    1015            1   4.039409\n",
       "7        ROCA   60142    50    1171            1   4.269855\n",
       "8   CARDINALI   23992    48    1056            1   4.545455\n",
       "0        ROCA   60705    40     843            1   4.744958\n",
       "4   CARDINALI   34120    64    1228            2   5.211726\n",
       "11  CARDINALI   15817    73    1353            2   5.395418"
      ]
     },
     "execution_count": 9,
     "metadata": {},
     "output_type": "execute_result"
    }
   ],
   "source": [
    "df.sort_values(by='Indicador', ascending=True)"
   ]
  },
  {
   "cell_type": "code",
   "execution_count": 10,
   "metadata": {},
   "outputs": [
    {
     "data": {
      "text/plain": [
       "<AxesSubplot: xlabel='Agencia', ylabel='Indicador'>"
      ]
     },
     "execution_count": 10,
     "metadata": {},
     "output_type": "execute_result"
    },
    {
     "data": {
      "image/png": "[encoded data removed]",
      "text/plain": [
       "<Figure size 640x480 with 1 Axes>"
      ]
     },
     "metadata": {},
     "output_type": "display_data"
    }
   ],
   "source": [
    "df.plot(y='Indicador', x='Agencia', kind='scatter')"
   ]
  },
  {
   "cell_type": "code",
   "execution_count": 11,
   "metadata": {},
   "outputs": [
    {
     "data": {
      "text/plain": [
       "<AxesSubplot: xlabel='precio', ylabel='Indicador'>"
      ]
     },
     "execution_count": 11,
     "metadata": {},
     "output_type": "execute_result"
    },
    {
     "data": {
      "image/png": "[encoded data removed]",
      "text/plain": [
       "<Figure size 640x480 with 1 Axes>"
      ]
     },
     "metadata": {},
     "output_type": "display_data"
    }
   ],
   "source": [
    "cmap = cm.get_cmap('Spectral')\n",
    "fig, ax = plt.subplots()\n",
    "df.plot( x='precio',y='Indicador', kind='scatter', ax=ax, s=120, linewidth=0, c=range(len(df)), colormap=cmap)\n"
   ]
  },
  {
   "cell_type": "code",
   "execution_count": null,
   "metadata": {},
   "outputs": [],
   "source": []
  }
 ],
 "metadata": {
  "kernelspec": {
   "display_name": "Python 3",
   "language": "python",
   "name": "python3"
  },
  "language_info": {
   "codemirror_mode": {
    "name": "ipython",
    "version": 3
   },
   "file_extension": ".py",
   "mimetype": "text/x-python",
   "name": "python",
   "nbconvert_exporter": "python",
   "pygments_lexer": "ipython3",
   "version": "3.10.4"
  },
  "orig_nbformat": 4,
  "vscode": {
   "interpreter": {
    "hash": "3ad933181bd8a04b432d3370b9dc3b0662ad032c4dfaa4e4f1596c548f763858"
   }
  }
 },
 "nbformat": 4,
 "nbformat_minor": 2
}
